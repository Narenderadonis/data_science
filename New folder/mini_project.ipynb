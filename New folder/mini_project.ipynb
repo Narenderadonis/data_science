{
 "cells": [
  {
   "cell_type": "code",
   "execution_count": 1,
   "metadata": {},
   "outputs": [
    {
     "name": "stdout",
     "output_type": "stream",
     "text": [
      "Enter the city:bangalore\n",
      "\n",
      "bangalore's temperature: 33.35°C \n",
      "Wind speed: 1.5 m/s\n",
      "Description: few clouds\n",
      "Weather: Clouds\n",
      "\n"
     ]
    }
   ],
   "source": [
    "import requests\n",
    "from pprint import pprint\n",
    "def weather_data(query):\n",
    "\tres=requests.get('http://api.openweathermap.org/data/2.5/weather?'+query+'&APPID=b35975e18dc93725acb092f7272cc6b8&units=metric');\n",
    "\treturn res.json();\n",
    "def print_weather(result,city):\n",
    "\tprint(\"{}'s temperature: {}°C \".format(city,result['main']['temp']))\n",
    "\tprint(\"Wind speed: {} m/s\".format(result['wind']['speed']))\n",
    "\tprint(\"Description: {}\".format(result['weather'][0]['description']))\n",
    "\tprint(\"Weather: {}\".format(result['weather'][0]['main']))\n",
    "def main():\n",
    "\tcity=input('Enter the city:')\n",
    "\tprint()\n",
    "\ttry:\n",
    "\t  query='q='+city;\n",
    "\t  w_data=weather_data(query);\n",
    "\t  print_weather(w_data, city)\n",
    "\t  print()\n",
    "\texcept:\n",
    "\t  print('City name not found...')\n",
    "if __name__=='__main__':\n",
    "\tmain()\n"
   ]
  },
  {
   "cell_type": "code",
   "execution_count": null,
   "metadata": {},
   "outputs": [],
   "source": []
  },
  {
   "cell_type": "code",
   "execution_count": null,
   "metadata": {},
   "outputs": [],
   "source": []
  }
 ],
 "metadata": {
  "kernelspec": {
   "display_name": "Python 3",
   "language": "python",
   "name": "python3"
  },
  "language_info": {
   "codemirror_mode": {
    "name": "ipython",
    "version": 3
   },
   "file_extension": ".py",
   "mimetype": "text/x-python",
   "name": "python",
   "nbconvert_exporter": "python",
   "pygments_lexer": "ipython3",
   "version": "3.7.6"
  }
 },
 "nbformat": 4,
 "nbformat_minor": 4
}
